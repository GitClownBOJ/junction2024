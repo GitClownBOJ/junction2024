{
 "cells": [
  {
   "cell_type": "markdown",
   "metadata": {},
   "source": [
    "# Report finding the correlation between Underweight/Overweight and Before/After cooking loss"
   ]
  },
  {
   "cell_type": "code",
   "execution_count": 5,
   "metadata": {},
   "outputs": [],
   "source": [
    "import numpy as np\n",
    "import pandas as pd"
   ]
  },
  {
   "cell_type": "markdown",
   "metadata": {},
   "source": [
    "## Loading the Underweight/Overweight data"
   ]
  },
  {
   "cell_type": "code",
   "execution_count": 7,
   "metadata": {},
   "outputs": [
    {
     "name": "stdout",
     "output_type": "stream",
     "text": [
      "    DATE OF PACKING  Positive Percentage  Negative Percentage\n",
      "0        2023-10-02               81.250                0.000\n",
      "1        2023-10-03               96.875                3.125\n",
      "2        2023-10-03              100.000                0.000\n",
      "3        2023-10-04               87.500                0.000\n",
      "4        2023-10-04               84.375               15.625\n",
      "..              ...                  ...                  ...\n",
      "408      2024-10-18               59.375               21.875\n",
      "409      2024-10-18               56.250               40.625\n",
      "410      2024-10-22                3.125               96.875\n",
      "411      2024-10-22               81.250               15.625\n",
      "412      2024-10-24               84.375               15.625\n",
      "\n",
      "[413 rows x 3 columns]\n"
     ]
    }
   ],
   "source": [
    "under_over_data = pd.read_csv('faith_under_over_weight.csv')\n",
    "under_over_data['DATE OF PACKING'] = pd.to_datetime(under_over_data['DATE OF PACKING'])\n",
    "under_over_data.drop(columns=['EXPIRY DATE', 'AVERAGE WEIGHT (g)'], inplace=True)\n",
    "print(under_over_data)"
   ]
  },
  {
   "cell_type": "code",
   "execution_count": 13,
   "metadata": {},
   "outputs": [],
   "source": [
    "average_percentages = under_over_data.groupby('DATE OF PACKING')[['Positive Percentage', 'Negative Percentage']].mean().reset_index()\n",
    "average_percentages['BATCH OUT OF STORAGE'] = average_percentages['DATE OF PACKING']\n",
    "average_percentages.drop(columns=['DATE OF PACKING'], inplace=True)\n",
    "average_percentages['BATCH OUT OF STORAGE'] = pd.to_datetime(average_percentages['BATCH OUT OF STORAGE'])"
   ]
  },
  {
   "cell_type": "markdown",
   "metadata": {},
   "source": [
    "## Loading the loss data"
   ]
  },
  {
   "cell_type": "code",
   "execution_count": 10,
   "metadata": {},
   "outputs": [],
   "source": [
    "loss_percentage = pd.read_csv('faith_cooking_batch_loss.csv')\n",
    "loss_percentage['PRODUCTION DATE'] = pd.to_datetime(loss_percentage['PRODUCTION DATE'])"
   ]
  },
  {
   "cell_type": "code",
   "execution_count": 11,
   "metadata": {},
   "outputs": [],
   "source": [
    "stored_data = pd.read_csv('faith_store.csv')\n",
    "stored_data['PRODUCTION DATE'] = pd.to_datetime(stored_data['PRODUCTION DATE'], format='%m/%d/%Y')\n",
    "stored_data['BATCH OUT OF STORAGE'] = pd.to_datetime(stored_data['BATCH OUT OF STORAGE'], format='%m/%d/%Y')"
   ]
  },
  {
   "cell_type": "code",
   "execution_count": 12,
   "metadata": {},
   "outputs": [
    {
     "name": "stdout",
     "output_type": "stream",
     "text": [
      "       BATCH no. PRODUCTION DATE  BATCH WEIGHT (kg) BEFORE COOKING  \\\n",
      "0           1637      2023-10-09                             293.3   \n",
      "1           1638      2023-10-09                             283.5   \n",
      "2           1639      2023-10-09                             279.0   \n",
      "3           1640      2023-10-09                             287.0   \n",
      "4           1641      2023-10-09                             286.8   \n",
      "...          ...             ...                               ...   \n",
      "15037       4178      2024-10-04                             271.5   \n",
      "15038       4180      2024-10-04                             270.8   \n",
      "15039       4181      2024-10-04                             260.1   \n",
      "15040       4182      2024-10-04                             257.2   \n",
      "15041       4183      2024-10-04                             172.7   \n",
      "\n",
      "       BATCH WEIGHT (kg) AFTER COOKING  LOSS PERCENTAGE BATCH OUT OF STORAGE  \\\n",
      "0                                286.0         2.488919           2023-10-09   \n",
      "1                                277.0         2.292769           2023-10-09   \n",
      "2                                273.0         2.150538           2023-10-09   \n",
      "3                                281.0         2.090592           2023-10-09   \n",
      "4                                279.0         2.719665           2023-10-09   \n",
      "...                                ...              ...                  ...   \n",
      "15037                            269.8         0.626151           2024-10-06   \n",
      "15038                            268.3         0.923191           2024-10-06   \n",
      "15039                            258.6         0.576701           2024-10-07   \n",
      "15040                            257.0         0.077760           2024-10-07   \n",
      "15041                            168.2         2.605675           2024-10-06   \n",
      "\n",
      "       BATCH WEIGHT LEAVING STORAGE (KG)  \n",
      "0                                  286.0  \n",
      "1                                  277.0  \n",
      "2                                  273.0  \n",
      "3                                  281.0  \n",
      "4                                  279.0  \n",
      "...                                  ...  \n",
      "15037                              269.8  \n",
      "15038                              268.3  \n",
      "15039                              258.6  \n",
      "15040                              257.0  \n",
      "15041                              168.2  \n",
      "\n",
      "[15042 rows x 7 columns]\n"
     ]
    }
   ],
   "source": [
    "merged_data = pd.merge(loss_percentage, stored_data, on=['BATCH no.', 'PRODUCTION DATE'], how='inner')\n",
    "print(merged_data)"
   ]
  },
  {
   "cell_type": "code",
   "execution_count": 14,
   "metadata": {},
   "outputs": [],
   "source": [
    "merged_data = pd.merge(merged_data, average_percentages, on='BATCH OUT OF STORAGE', how='inner')"
   ]
  },
  {
   "cell_type": "markdown",
   "metadata": {},
   "source": [
    "## Figure out the correlation of the data"
   ]
  },
  {
   "cell_type": "code",
   "execution_count": 15,
   "metadata": {},
   "outputs": [
    {
     "name": "stdout",
     "output_type": "stream",
     "text": [
      "Pearson correlation: -0.01\n",
      "Spearman correlation: 0.02\n"
     ]
    }
   ],
   "source": [
    "from scipy.stats import pearsonr, spearmanr\n",
    "pearson_corr, _ = pearsonr(merged_data[\"LOSS PERCENTAGE\"], merged_data[\"Negative Percentage\"])\n",
    "spearman_corr, _ = spearmanr(merged_data[\"LOSS PERCENTAGE\"], merged_data[\"Negative Percentage\"])\n",
    "\n",
    "print(f\"Pearson correlation: {pearson_corr:.2f}\")\n",
    "print(f\"Spearman correlation: {spearman_corr:.2f}\")"
   ]
  },
  {
   "cell_type": "code",
   "execution_count": 16,
   "metadata": {},
   "outputs": [
    {
     "name": "stdout",
     "output_type": "stream",
     "text": [
      "Pearson correlation: 0.02\n",
      "Spearman correlation: -0.02\n"
     ]
    }
   ],
   "source": [
    "pearson_corr, _ = pearsonr(merged_data[\"LOSS PERCENTAGE\"], merged_data[\"Positive Percentage\"])\n",
    "spearman_corr, _ = spearmanr(merged_data[\"LOSS PERCENTAGE\"], merged_data[\"Positive Percentage\"])\n",
    "\n",
    "print(f\"Pearson correlation: {pearson_corr:.2f}\")\n",
    "print(f\"Spearman correlation: {spearman_corr:.2f}\")"
   ]
  },
  {
   "cell_type": "markdown",
   "metadata": {},
   "source": [
    "## Conclusion"
   ]
  },
  {
   "cell_type": "markdown",
   "metadata": {},
   "source": [
    "There is no correlation between the loss during the cooking process and the underweight/overweight percentage at the last stage.\n",
    "\n",
    "The factory have to provide more information about the process and statistical data"
   ]
  },
  {
   "cell_type": "code",
   "execution_count": null,
   "metadata": {},
   "outputs": [],
   "source": []
  }
 ],
 "metadata": {
  "kernelspec": {
   "display_name": "tf217",
   "language": "python",
   "name": "python3"
  },
  "language_info": {
   "codemirror_mode": {
    "name": "ipython",
    "version": 3
   },
   "file_extension": ".py",
   "mimetype": "text/x-python",
   "name": "python",
   "nbconvert_exporter": "python",
   "pygments_lexer": "ipython3",
   "version": "3.11.10"
  }
 },
 "nbformat": 4,
 "nbformat_minor": 2
}
